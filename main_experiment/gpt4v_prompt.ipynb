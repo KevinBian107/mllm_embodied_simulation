{
 "cells": [
  {
   "cell_type": "code",
   "execution_count": 15,
   "metadata": {},
   "outputs": [],
   "source": [
    "from openai import OpenAI\n",
    "import pandas as pd\n",
    "import os\n",
    "import base64\n",
    "\n",
    "client = OpenAI()"
   ]
  },
  {
   "cell_type": "code",
   "execution_count": 24,
   "metadata": {},
   "outputs": [],
   "source": [
    "csv_path_natural = f\"data/natural/affordance_natural.csv\"\n",
    "img_folder_natural = f\"data/natural/images\"\n",
    "\n",
    "csv_path_synthetic = f\"data/synthetic/affordance_synthetic.csv\"\n",
    "img_folder_synthetic = f\"data/synthetic/images\"\n",
    "\n",
    "df_natural = pd.read_csv(csv_path_natural)\n",
    "df_synthetic = pd.read_csv(csv_path_synthetic)"
   ]
  },
  {
   "cell_type": "code",
   "execution_count": 26,
   "metadata": {},
   "outputs": [],
   "source": [
    "# Function to encode the image\n",
    "def encode_image(image_path):\n",
    "    with open(image_path, \"rb\") as image_file:\n",
    "        return base64.b64encode(image_file.read()).decode('utf-8')\n",
    "\n",
    "# Function to iterate and encode images in a folder\n",
    "def encode_images_in_folder(folder_path):\n",
    "    encoded_images = {}\n",
    "    for image_name in os.listdir(folder_path):\n",
    "        image_path = os.path.join(folder_path, image_name)\n",
    "        if os.path.isfile(image_path):\n",
    "            encoded_images[image_name] = encode_image(image_path)\n",
    "    return encoded_images\n",
    "\n",
    "encoded_natural_images = encode_images_in_folder(img_folder_natural)\n",
    "encoded_synthetic_images = encode_images_in_folder(img_folder_synthetic)"
   ]
  },
  {
   "cell_type": "code",
   "execution_count": 32,
   "metadata": {},
   "outputs": [],
   "source": [
    "def generate_data_url(base64_image, image_name):\n",
    "    if image_name.lower().endswith('.png'):\n",
    "        mime_type = 'image/png'\n",
    "    else:\n",
    "        mime_type = 'image/jpeg'\n",
    "    \n",
    "    return f\"data:{mime_type};base64,{base64_image}\"\n",
    "\n",
    "def gpt4_vision_call(prompt, base64_image):\n",
    "    data_url = generate_data_url(base64_image, image_name)\n",
    "    \n",
    "    response = client.chat.completions.create(\n",
    "        model=\"gpt-4-vision-preview\",\n",
    "        messages=[\n",
    "            {\"role\": \"system\",\n",
    "             \"content\": \"\"\"In this task, you will read short passages and look at an image of an object.\n",
    "Please rate how sensible it would be to take action described in the last sentence using the object in\n",
    "the image in the context of the whole passage. The scale goes from 1 (virtual nonsense) to 7 (completely sensible).\n",
    "Be sure to read the sentences carefully. Please respond only with a number between 1 and 7.\n",
    "\"\"\"},\n",
    "\n",
    "            {\n",
    "                \"role\": \"user\",\n",
    "                \"content\": [\n",
    "                    {\"type\": \"text\", \"text\": prompt},\n",
    "                    {\n",
    "                        \"type\": \"image_url\",\n",
    "                        \"image_url\": {\n",
    "                            \"url\": data_url,\n",
    "                        },\n",
    "                    },\n",
    "                ],\n",
    "            }\n",
    "        ],\n",
    "        max_tokens=300\n",
    "    )\n",
    "    return response.choices[0].message.content\n",
    "\n",
    "def iterate_gpt4v(df, encoded_images_dict):\n",
    "    results_afforded = []\n",
    "    results_non_afforded = [] \n",
    "    results_related = []\n",
    "    \n",
    "    for _, row in df.iterrows():\n",
    "        condition = row['condition']\n",
    "        \n",
    "        for image_type in ['afforded_image', 'non-afforded_image', 'related_image']:\n",
    "            image_name = row[image_type]\n",
    "            if image_name in encoded_images_dict:\n",
    "                base64_image = encoded_images_dict[image_name]\n",
    "                result = make_gpt4_vision_call(condition, base64_image)\n",
    "            else:\n",
    "                result = \"Image encoding not found\"\n",
    "            \n",
    "            if image_type == 'afforded_image':\n",
    "                results_afforded.append(result)\n",
    "            elif image_type == 'non-afforded_image':\n",
    "                results_non_afforded.append(result) \n",
    "            elif image_type == 'related_image':\n",
    "                results_related.append(result)\n",
    "    \n",
    "    df['gpt4v_result_afforded'] = results_afforded\n",
    "    df['gpt4v_result_non_afforded'] = results_non_afforded \n",
    "    df['gpt4v_result_related'] = results_related\n",
    "\n",
    "    return df\n"
   ]
  },
  {
   "cell_type": "code",
   "execution_count": 33,
   "metadata": {},
   "outputs": [],
   "source": [
    "df_natural = iterate_gpt4v(df_natural, encoded_natural_images)\n",
    "df_synthetic = iterate_gpt4v(df_synthetic, encoded_synthetic_images)"
   ]
  },
  {
   "cell_type": "code",
   "execution_count": 37,
   "metadata": {},
   "outputs": [],
   "source": [
    "folder_path = 'gpt4v_results'\n",
    "\n",
    "file_path_natural = os.path.join(folder_path, 'df_natural.csv')\n",
    "file_path_synthetic = os.path.join(folder_path, 'df_synthetic.csv')\n",
    "\n",
    "df_natural.to_csv(file_path_natural, index=False)\n",
    "df_synthetic.to_csv(file_path_synthetic, index=False)"
   ]
  },
  {
   "cell_type": "code",
   "execution_count": null,
   "metadata": {},
   "outputs": [],
   "source": []
  }
 ],
 "metadata": {
  "interpreter": {
   "hash": "33c404f17cf6a3c4af1d61cd16566f7fa74975b52d32a31e42111aaf3b3e38cf"
  },
  "kernelspec": {
   "display_name": "Python 3.9.7 64-bit ('my_env': conda)",
   "name": "python3"
  },
  "language_info": {
   "codemirror_mode": {
    "name": "ipython",
    "version": 3
   },
   "file_extension": ".py",
   "mimetype": "text/x-python",
   "name": "python",
   "nbconvert_exporter": "python",
   "pygments_lexer": "ipython3",
   "version": "3.9.7"
  },
  "orig_nbformat": 4
 },
 "nbformat": 4,
 "nbformat_minor": 2
}
