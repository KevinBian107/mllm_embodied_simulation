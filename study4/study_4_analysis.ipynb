{
 "cells": [
  {
   "cell_type": "code",
   "execution_count": 1,
   "metadata": {},
   "outputs": [],
   "source": [
    "import pandas as pd\n",
    "import seaborn as sns\n",
    "import numpy as np\n",
    "import matplotlib.pyplot as plt\n",
    "import statsmodels.api as sm \n",
    "from statsmodels.formula.api import ols\n",
    "import scipy as scipy\n",
    "from scipy.stats import ttest_ind\n",
    "import os"
   ]
  },
  {
   "cell_type": "code",
   "execution_count": 16,
   "metadata": {},
   "outputs": [],
   "source": [
    "gpt_natural_temp0 = pd.read_csv('gpt4o_results/df_natural_temp0.csv')\n",
    "gpt_synthetic_temp0 = pd.read_csv('gpt4o_results/df_synthetic_temp0.csv')"
   ]
  },
  {
   "cell_type": "markdown",
   "metadata": {},
   "source": [
    "# GPT4o Significance Results"
   ]
  },
  {
   "cell_type": "code",
   "execution_count": 17,
   "metadata": {},
   "outputs": [],
   "source": [
    "gpt_n = gpt_natural_temp0.pipe(clean_df).assign(cat='natural')\n",
    "gpt_s = gpt_synthetic_temp0.pipe(clean_df).assign(cat='synthetic')\n",
    "all_temp0 = transform_df(gpt_n,gpt_s)\n",
    "main_temp0 = all_temp0.loc[all_temp0['conditions']!='related',:]"
   ]
  },
  {
   "cell_type": "code",
   "execution_count": 18,
   "metadata": {},
   "outputs": [
    {
     "data": {
      "text/plain": [
       "<seaborn.axisgrid.FacetGrid at 0x7fb32b021f70>"
      ]
     },
     "execution_count": 18,
     "metadata": {},
     "output_type": "execute_result"
    },
    {
     "data": {
      "image/png": "[encoded data removed]",
      "text/plain": [
       "<Figure size 966x360 with 2 Axes>"
      ]
     },
     "metadata": {
      "needs_background": "light"
     },
     "output_type": "display_data"
    }
   ],
   "source": [
    "sns.catplot(data = all_temp0,\n",
    "            x = \"prompt_type\",\n",
    "            y = \"value\",\n",
    "            hue = \"conditions\",\n",
    "            col = \"cat\",\n",
    "            kind='bar',\n",
    "            height= 5,\n",
    "            aspect=1.2,\n",
    "            palette= ['C0','C3','C1'],\n",
    "            alpha= 0.8)"
   ]
  },
  {
   "cell_type": "code",
   "execution_count": 19,
   "metadata": {},
   "outputs": [
    {
     "data": {
      "text/plain": [
       "<seaborn.axisgrid.FacetGrid at 0x7fb32b0f16d0>"
      ]
     },
     "execution_count": 19,
     "metadata": {},
     "output_type": "execute_result"
    },
    {
     "data": {
      "image/png": "[encoded data removed]",
      "text/plain": [
       "<Figure size 966x360 with 2 Axes>"
      ]
     },
     "metadata": {
      "needs_background": "light"
     },
     "output_type": "display_data"
    }
   ],
   "source": [
    "sns.catplot(data = main_temp0,\n",
    "            x = \"prompt_type\",\n",
    "            y = \"value\",\n",
    "            hue = \"conditions\",\n",
    "            col = \"cat\",\n",
    "            kind='bar',\n",
    "            height= 5,\n",
    "            aspect=1.2,\n",
    "            palette= ['C0','C1'],\n",
    "            alpha= 0.8)"
   ]
  },
  {
   "cell_type": "code",
   "execution_count": 20,
   "metadata": {},
   "outputs": [
    {
     "name": "stdout",
     "output_type": "stream",
     "text": [
      "                                  sum_sq     df          F        PR(>F)\n",
      "C(conditions)                 360.444444    2.0  64.074492  1.890936e-22\n",
      "C(prompt_type)                  0.074074    1.0   0.026336  8.712395e-01\n",
      "C(conditions):C(prompt_type)    0.148148    2.0   0.026336  9.740114e-01\n",
      "Residual                      590.666667  210.0        NaN           NaN \n",
      "\n"
     ]
    }
   ],
   "source": [
    "model = ols('value ~ C(conditions) + C(prompt_type) + C(conditions):C(prompt_type)', data=all_temp0).fit()\n",
    "anova_result = sm.stats.anova_lm(model, typ=2)\n",
    "print (anova_result,'\\n')"
   ]
  },
  {
   "cell_type": "code",
   "execution_count": 21,
   "metadata": {},
   "outputs": [
    {
     "data": {
      "text/plain": [
       "Ttest_indResult(statistic=6.525060303179801, pvalue=1.1167507466786768e-09)"
      ]
     },
     "execution_count": 21,
     "metadata": {},
     "output_type": "execute_result"
    }
   ],
   "source": [
    "afforded = main_temp0.loc[main_temp0['conditions']=='afforded']\n",
    "non_afforded = main_temp0.loc[main_temp0['conditions']=='non_afforded']\n",
    "ttest_ind(afforded.loc[:,'value'], non_afforded.loc[:,'value'])"
   ]
  },
  {
   "cell_type": "code",
   "execution_count": 22,
   "metadata": {},
   "outputs": [
    {
     "name": "stdout",
     "output_type": "stream",
     "text": [
      "Natural Dataset T Test\n"
     ]
    },
    {
     "data": {
      "text/plain": [
       "Ttest_indResult(statistic=4.8776573050490635, pvalue=6.488662544707969e-06)"
      ]
     },
     "execution_count": 22,
     "metadata": {},
     "output_type": "execute_result"
    }
   ],
   "source": [
    "print('Natural Dataset T Test')\n",
    "afforded = main_temp0.loc[(main_temp0['conditions']=='afforded') & (main_temp0['cat']=='natural')]\n",
    "non_afforded = main_temp0.loc[(main_temp0['conditions']=='non_afforded') & (main_temp0['cat']=='natural')]\n",
    "ttest_ind(afforded.loc[:,'value'], non_afforded.loc[:,'value'])"
   ]
  },
  {
   "cell_type": "code",
   "execution_count": 23,
   "metadata": {},
   "outputs": [
    {
     "name": "stdout",
     "output_type": "stream",
     "text": [
      "Synthetic Dataset T Test\n"
     ]
    },
    {
     "data": {
      "text/plain": [
       "Ttest_indResult(statistic=4.397905821885158, pvalue=3.8196806763062414e-05)"
      ]
     },
     "execution_count": 23,
     "metadata": {},
     "output_type": "execute_result"
    }
   ],
   "source": [
    "print('Synthetic Dataset T Test')\n",
    "afforded = main_temp0.loc[(main_temp0['conditions']=='afforded') & (main_temp0['cat']=='synthetic')]\n",
    "non_afforded = main_temp0.loc[(main_temp0['conditions']=='non_afforded') & (main_temp0['cat']=='synthetic')]\n",
    "ttest_ind(afforded.loc[:,'value'], non_afforded.loc[:,'value']) "
   ]
  },
  {
   "cell_type": "markdown",
   "metadata": {},
   "source": [
    "# Significance Results"
   ]
  },
  {
   "cell_type": "markdown",
   "metadata": {},
   "source": [
    "## ANOVA"
   ]
  },
  {
   "cell_type": "code",
   "execution_count": 25,
   "metadata": {},
   "outputs": [
    {
     "name": "stdout",
     "output_type": "stream",
     "text": [
      "                                  sum_sq     df          F        PR(>F)\n",
      "C(conditions)                 360.444444    2.0  64.074492  1.890936e-22\n",
      "C(prompt_type)                  0.074074    1.0   0.026336  8.712395e-01\n",
      "C(conditions):C(prompt_type)    0.148148    2.0   0.026336  9.740114e-01\n",
      "Residual                      590.666667  210.0        NaN           NaN \n",
      "\n"
     ]
    }
   ],
   "source": [
    "model = ols('value ~ C(conditions) + C(prompt_type) + C(conditions):C(prompt_type)', data=all_temp0).fit()\n",
    "anova_result = sm.stats.anova_lm(model, typ=2)\n",
    "print (anova_result,'\\n')"
   ]
  },
  {
   "cell_type": "markdown",
   "metadata": {},
   "source": [
    "## T Test Full Data Set"
   ]
  },
  {
   "cell_type": "code",
   "execution_count": 27,
   "metadata": {},
   "outputs": [
    {
     "data": {
      "text/plain": [
       "Ttest_indResult(statistic=6.525060303179801, pvalue=1.1167507466786768e-09)"
      ]
     },
     "execution_count": 27,
     "metadata": {},
     "output_type": "execute_result"
    }
   ],
   "source": [
    "afforded = main_temp0.loc[main_temp0['conditions']=='afforded']\n",
    "non_afforded = main_temp0.loc[main_temp0['conditions']=='non_afforded']\n",
    "ttest_ind(afforded.loc[:,'value'], non_afforded.loc[:,'value'])"
   ]
  },
  {
   "cell_type": "markdown",
   "metadata": {},
   "source": [
    "## T Test Separate Data Set"
   ]
  },
  {
   "cell_type": "code",
   "execution_count": 28,
   "metadata": {},
   "outputs": [
    {
     "name": "stdout",
     "output_type": "stream",
     "text": [
      "Natural Dataset T Test\n"
     ]
    },
    {
     "data": {
      "text/plain": [
       "Ttest_indResult(statistic=4.8776573050490635, pvalue=6.488662544707969e-06)"
      ]
     },
     "execution_count": 28,
     "metadata": {},
     "output_type": "execute_result"
    }
   ],
   "source": [
    "print('Natural Dataset T Test')\n",
    "afforded = main_temp0.loc[(main_temp0['conditions']=='afforded') & (main_temp0['cat']=='natural')]\n",
    "non_afforded = main_temp0.loc[(main_temp0['conditions']=='non_afforded') & (main_temp0['cat']=='natural')]\n",
    "ttest_ind(afforded.loc[:,'value'], non_afforded.loc[:,'value'])"
   ]
  },
  {
   "cell_type": "code",
   "execution_count": 29,
   "metadata": {},
   "outputs": [
    {
     "name": "stdout",
     "output_type": "stream",
     "text": [
      "Synthetic Dataset T Test\n"
     ]
    },
    {
     "data": {
      "text/plain": [
       "Ttest_indResult(statistic=4.397905821885158, pvalue=3.8196806763062414e-05)"
      ]
     },
     "execution_count": 29,
     "metadata": {},
     "output_type": "execute_result"
    }
   ],
   "source": [
    "print('Synthetic Dataset T Test')\n",
    "afforded = main_temp0.loc[(main_temp0['conditions']=='afforded') & (main_temp0['cat']=='synthetic')]\n",
    "non_afforded = main_temp0.loc[(main_temp0['conditions']=='non_afforded') & (main_temp0['cat']=='synthetic')]\n",
    "ttest_ind(afforded.loc[:,'value'], non_afforded.loc[:,'value'])"
   ]
  },
  {
   "cell_type": "code",
   "execution_count": null,
   "metadata": {},
   "outputs": [],
   "source": []
  }
 ],
 "metadata": {
  "interpreter": {
   "hash": "e136996f306a5832d8a01b8d80b44057b071f84251314269222c3ca949cbcb02"
  },
  "kernelspec": {
   "display_name": "Python 3.9.7 64-bit ('base': conda)",
   "name": "python3"
  },
  "language_info": {
   "codemirror_mode": {
    "name": "ipython",
    "version": 3
   },
   "file_extension": ".py",
   "mimetype": "text/x-python",
   "name": "python",
   "nbconvert_exporter": "python",
   "pygments_lexer": "ipython3",
   "version": "3.9.7"
  }
 },
 "nbformat": 4,
 "nbformat_minor": 2
}
